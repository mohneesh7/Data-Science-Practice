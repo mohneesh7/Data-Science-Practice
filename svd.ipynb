{
 "cells": [
  {
   "cell_type": "markdown",
   "metadata": {},
   "source": [
    "<center>Calculate SVD from scratch\n",
    "--"
   ]
  },
  {
   "cell_type": "markdown",
   "metadata": {},
   "source": [
    "1) **Import numpy and linear algebra libraries**"
   ]
  },
  {
   "cell_type": "code",
   "execution_count": null,
   "metadata": {},
   "outputs": [],
   "source": [
    "import numpy as n\n",
    "import numpy.linalg as alg"
   ]
  },
  {
   "cell_type": "markdown",
   "metadata": {},
   "source": [
    "2) **The matrix when decomposed using SVD, decomposes to three elements U,sigma,V**"
   ]
  },
  {
   "cell_type": "code",
   "execution_count": 6,
   "metadata": {
    "scrolled": true,
    "slideshow": {
     "slide_type": "slide"
    }
   },
   "outputs": [
    {
     "name": "stdout",
     "output_type": "stream",
     "text": [
      "Original Matrix:: \n",
      "[[1 2]\n",
      " [3 4]\n",
      " [5 6]]\n",
      "U:: \n",
      " [[-0.2298477   0.88346102  0.40824829]\n",
      " [-0.52474482  0.24078249 -0.81649658]\n",
      " [-0.81964194 -0.40189603  0.40824829]]\n",
      "Dim ::  (3, 3)\n",
      "Sigma:: \n",
      " [9.52551809 0.51430058]\n",
      "Dim ::  (2,)\n",
      "V:: \n",
      " [[-0.61962948 -0.78489445]\n",
      " [-0.78489445  0.61962948]]\n",
      "Dim ::  (2, 2)\n"
     ]
    }
   ],
   "source": [
    "A = n.array([[1,2],[3,4],[5,6]])\n",
    "print (f\"Original Matrix:: \\n{A}\")\n",
    "U,s,V = alg.svd(A)\n",
    "print(\"U:: \\n\",U)\n",
    "print(\"Dim :: \",U.shape)\n",
    "print(\"Sigma:: \\n\",s)\n",
    "print(\"Dim :: \",s.shape)\n",
    "print(\"V:: \\n\",V)\n",
    "print(\"Dim :: \",V.shape)"
   ]
  },
  {
   "cell_type": "markdown",
   "metadata": {},
   "source": [
    "3) ___Sigma we got is 1xn matrix but we need NxN matrix to recompose it into the original matrix___"
   ]
  },
  {
   "cell_type": "code",
   "execution_count": 7,
   "metadata": {},
   "outputs": [
    {
     "name": "stdout",
     "output_type": "stream",
     "text": [
      "Sigma NxN:: \n",
      " [[9.52551809 0.        ]\n",
      " [0.         0.51430058]\n",
      " [0.         0.        ]]\n"
     ]
    }
   ],
   "source": [
    "Sigma = n.zeros((A.shape[0],A.shape[1]))\n",
    "Sigma[:A.shape[1],:A.shape[1]] = n.diag(s)\n",
    "print (\"Sigma NxN:: \\n\",Sigma)\n"
   ]
  },
  {
   "cell_type": "markdown",
   "metadata": {},
   "source": [
    "4) __Recomposed matrix gives the original matrix__"
   ]
  },
  {
   "cell_type": "code",
   "execution_count": 8,
   "metadata": {
    "scrolled": true
   },
   "outputs": [
    {
     "name": "stdout",
     "output_type": "stream",
     "text": [
      "Recomposing:: \n",
      " [[1. 2.]\n",
      " [3. 4.]\n",
      " [5. 6.]]\n"
     ]
    }
   ],
   "source": [
    "B = U.dot(Sigma.dot(V))\n",
    "print (\"Recomposing:: \\n\",B)"
   ]
  },
  {
   "cell_type": "markdown",
   "metadata": {},
   "source": [
    "5) __Calculate PseudoInverse__\n",
    "* calculate the reciprocals of sigma\n",
    "* D is a zero matrix to make a NxN diagonal Matrix\n",
    "\n",
    "**__Calculating PsuedoInverse using the formula__** \n",
    "    $$P^{inv} = V^T.D^T.U^T$$\n"
   ]
  },
  {
   "cell_type": "code",
   "execution_count": 10,
   "metadata": {},
   "outputs": [
    {
     "name": "stdout",
     "output_type": "stream",
     "text": [
      "PsudoInverse:: \n",
      " [[-1.33333333 -0.33333333  0.66666667]\n",
      " [ 1.08333333  0.33333333 -0.41666667]]\n"
     ]
    }
   ],
   "source": [
    "d = 1/s\n",
    "D=n.zeros(A.shape)\n",
    "D[:A.shape[1],:A.shape[1]]=n.diag(d)\n",
    "Pinv = V.T.dot(D.T.dot(U.T))\n",
    "\n",
    "print (\"PsudoInverse:: \\n\",Pinv)\n"
   ]
  }
 ],
 "metadata": {
  "kernelspec": {
   "display_name": "Python 3",
   "language": "python",
   "name": "python3"
  },
  "language_info": {
   "codemirror_mode": {
    "name": "ipython",
    "version": 3
   },
   "file_extension": ".py",
   "mimetype": "text/x-python",
   "name": "python",
   "nbconvert_exporter": "python",
   "pygments_lexer": "ipython3",
   "version": "3.6.4"
  }
 },
 "nbformat": 4,
 "nbformat_minor": 2
}
